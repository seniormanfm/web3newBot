{
 "cells": [
  {
   "cell_type": "code",
   "execution_count": 6,
   "id": "22fbc620",
   "metadata": {},
   "outputs": [],
   "source": [
    "from bs4 import BeautifulSoup\n",
    "import requests\n",
    "import time\n",
    "from random import randint\n",
    "from requests.exceptions import RequestException"
   ]
  },
  {
   "cell_type": "code",
   "execution_count": 5,
   "id": "d3aff935",
   "metadata": {},
   "outputs": [],
   "source": [
    "def get_headers():\n",
    "    \"\"\"Generate headers that look like a real browser.\"\"\"\n",
    "    return {\n",
    "        'User-Agent': 'Mozilla/5.0 (Windows NT 10.0; Win64; x64) AppleWebKit/537.36 (KHTML, like Gecko) Chrome/118.0.0.0 Safari/537.36',\n",
    "        'Accept': 'text/html,application/xhtml+xml,application/xml;q=0.9,image/webp,*/*;q=0.8',\n",
    "        'Accept-Language': 'en-US,en;q=0.5',\n",
    "        'Connection': 'keep-alive',\n",
    "        'Upgrade-Insecure-Requests': '1',\n",
    "    }\n",
    "\n",
    "def fetch_with_retry(url, max_retries=3, delay=2):\n",
    "    \"\"\"Fetch URL with retry logic and error handling.\"\"\"\n",
    "    for attempt in range(max_retries):\n",
    "        try:\n",
    "            # Add a small random delay to be polite to the server\n",
    "            time.sleep(delay + randint(1, 3))\n",
    "            \n",
    "            # Make the request with proper headers\n",
    "            response = requests.get(url, headers=get_headers(), timeout=10)\n",
    "            response.raise_for_status()\n",
    "            return response\n",
    "            \n",
    "        except RequestException as e:\n",
    "            if attempt == max_retries - 1:  # Last attempt\n",
    "                print(f\"Error fetching {url}: {str(e)}\")\n",
    "                raise\n",
    "            print(f\"Attempt {attempt + 1} failed, retrying...\")\n",
    "            time.sleep(delay * (attempt + 1))  # Exponential backoff\n",
    "    return None"
   ]
  },
  {
   "cell_type": "code",
   "execution_count": 7,
   "id": "1cbfee98",
   "metadata": {},
   "outputs": [
    {
     "name": "stdout",
     "output_type": "stream",
     "text": [
      "No articles found. The page structure might have changed or blocking might be in place.\n",
      "\n",
      "First 200 characters of the response:\n",
      "<!DOCTYPE html>\n",
      "<html>\n",
      " <head>\n",
      "  <meta charset=\"utf-8\"/>\n",
      "  <title>\n",
      "   Crypto News | Latest Cryptocurrency News - NewsNow\n",
      "  </title>\n",
      "  <link href=\"//c.newsnow.com\" rel=\"dns-prefetch\"/>\n",
      "  <meta content=\n"
     ]
    }
   ],
   "source": [
    "try:\n",
    "    # Use our fetch_with_retry function instead of direct requests.get\n",
    "    url = \"https://www.newsnow.com/ng/Economy/Cryptocurrencies/\"\n",
    "    page = fetch_with_retry(url)\n",
    "    \n",
    "    if page:\n",
    "        soup = BeautifulSoup(page.content, \"html.parser\")\n",
    "        results = soup.find_all(\"div\", class_=\"nws-article\")\n",
    "        \n",
    "        if not results:\n",
    "            print(\"No articles found. The page structure might have changed or blocking might be in place.\")\n",
    "            print(\"\\nFirst 200 characters of the response:\")\n",
    "            print(soup.prettify()[:200])\n",
    "        else:\n",
    "            print(f\"Found {len(results)} articles:\\n\")\n",
    "            for article in results:\n",
    "                try:\n",
    "                    title = article.find(\"h3\", class_=\"nws-article__headline\")\n",
    "                    link = article.find(\"a\")\n",
    "                    \n",
    "                    if title and link:\n",
    "                        print(f\"Title: {title.get_text().strip()}\")\n",
    "                        print(f\"Link: {link['href']}\\n\")\n",
    "                    else:\n",
    "                        print(\"Skipping article - missing title or link\\n\")\n",
    "                        \n",
    "                except Exception as e:\n",
    "                    print(f\"Error processing article: {str(e)}\\n\")\n",
    "                    continue\n",
    "                    \n",
    "except Exception as e:\n",
    "    print(f\"Error: {str(e)}\")"
   ]
  },
  {
   "cell_type": "code",
   "execution_count": 10,
   "id": "daca2d15",
   "metadata": {},
   "outputs": [
    {
     "ename": "RuntimeError",
     "evalue": "Cannot use HTMLSession within an existing event loop. Use AsyncHTMLSession instead.",
     "output_type": "error",
     "traceback": [
      "\u001b[31m---------------------------------------------------------------------------\u001b[39m",
      "\u001b[31mRuntimeError\u001b[39m                              Traceback (most recent call last)",
      "\u001b[36mCell\u001b[39m\u001b[36m \u001b[39m\u001b[32mIn[10]\u001b[39m\u001b[32m, line 7\u001b[39m\n\u001b[32m      4\u001b[39m url = \u001b[33m\"\u001b[39m\u001b[33mhttps://www.newsnow.com/ng/Economy/Cryptocurrencies/\u001b[39m\u001b[33m\"\u001b[39m\n\u001b[32m      6\u001b[39m r = session.get(url)\n\u001b[32m----> \u001b[39m\u001b[32m7\u001b[39m \u001b[43mr\u001b[49m\u001b[43m.\u001b[49m\u001b[43mhtml\u001b[49m\u001b[43m.\u001b[49m\u001b[43mrender\u001b[49m\u001b[43m(\u001b[49m\u001b[43mtimeout\u001b[49m\u001b[43m=\u001b[49m\u001b[32;43m20\u001b[39;49m\u001b[43m)\u001b[49m  \u001b[38;5;66;03m# this runs the JavaScript\u001b[39;00m\n\u001b[32m      9\u001b[39m articles = r.html.find(\u001b[33m'\u001b[39m\u001b[33mdiv.nws-article\u001b[39m\u001b[33m'\u001b[39m)\n\u001b[32m     11\u001b[39m \u001b[38;5;28;01mfor\u001b[39;00m article \u001b[38;5;129;01min\u001b[39;00m articles:\n",
      "\u001b[36mFile \u001b[39m\u001b[32mc:\\Users\\daddy brian\\Desktop\\projects\\Web3_News\\web3news\\Lib\\site-packages\\requests_html.py:586\u001b[39m, in \u001b[36mHTML.render\u001b[39m\u001b[34m(self, retries, script, wait, scrolldown, sleep, reload, timeout, keep_page)\u001b[39m\n\u001b[32m    541\u001b[39m \u001b[38;5;28;01mdef\u001b[39;00m\u001b[38;5;250m \u001b[39m\u001b[34mrender\u001b[39m(\u001b[38;5;28mself\u001b[39m, retries: \u001b[38;5;28mint\u001b[39m = \u001b[32m8\u001b[39m, script: \u001b[38;5;28mstr\u001b[39m = \u001b[38;5;28;01mNone\u001b[39;00m, wait: \u001b[38;5;28mfloat\u001b[39m = \u001b[32m0.2\u001b[39m, scrolldown=\u001b[38;5;28;01mFalse\u001b[39;00m, sleep: \u001b[38;5;28mint\u001b[39m = \u001b[32m0\u001b[39m, reload: \u001b[38;5;28mbool\u001b[39m = \u001b[38;5;28;01mTrue\u001b[39;00m, timeout: Union[\u001b[38;5;28mfloat\u001b[39m, \u001b[38;5;28mint\u001b[39m] = \u001b[32m8.0\u001b[39m, keep_page: \u001b[38;5;28mbool\u001b[39m = \u001b[38;5;28;01mFalse\u001b[39;00m):\n\u001b[32m    542\u001b[39m \u001b[38;5;250m    \u001b[39m\u001b[33;03m\"\"\"Reloads the response in Chromium, and replaces HTML content\u001b[39;00m\n\u001b[32m    543\u001b[39m \u001b[33;03m    with an updated version, with JavaScript executed.\u001b[39;00m\n\u001b[32m    544\u001b[39m \n\u001b[32m   (...)\u001b[39m\u001b[32m    583\u001b[39m \u001b[33;03m    Chromium into your home directory (``~/.pyppeteer``).\u001b[39;00m\n\u001b[32m    584\u001b[39m \u001b[33;03m    \"\"\"\u001b[39;00m\n\u001b[32m--> \u001b[39m\u001b[32m586\u001b[39m     \u001b[38;5;28mself\u001b[39m.browser = \u001b[38;5;28;43mself\u001b[39;49m\u001b[43m.\u001b[49m\u001b[43msession\u001b[49m\u001b[43m.\u001b[49m\u001b[43mbrowser\u001b[49m  \u001b[38;5;66;03m# Automatically create a event loop and browser\u001b[39;00m\n\u001b[32m    587\u001b[39m     content = \u001b[38;5;28;01mNone\u001b[39;00m\n\u001b[32m    589\u001b[39m     \u001b[38;5;66;03m# Automatically set Reload to False, if example URL is being used.\u001b[39;00m\n",
      "\u001b[36mFile \u001b[39m\u001b[32mc:\\Users\\daddy brian\\Desktop\\projects\\Web3_News\\web3news\\Lib\\site-packages\\requests_html.py:729\u001b[39m, in \u001b[36mHTMLSession.browser\u001b[39m\u001b[34m(self)\u001b[39m\n\u001b[32m    727\u001b[39m     \u001b[38;5;28mself\u001b[39m.loop = asyncio.get_event_loop()\n\u001b[32m    728\u001b[39m     \u001b[38;5;28;01mif\u001b[39;00m \u001b[38;5;28mself\u001b[39m.loop.is_running():\n\u001b[32m--> \u001b[39m\u001b[32m729\u001b[39m         \u001b[38;5;28;01mraise\u001b[39;00m \u001b[38;5;167;01mRuntimeError\u001b[39;00m(\u001b[33m\"\u001b[39m\u001b[33mCannot use HTMLSession within an existing event loop. Use AsyncHTMLSession instead.\u001b[39m\u001b[33m\"\u001b[39m)\n\u001b[32m    730\u001b[39m     \u001b[38;5;28mself\u001b[39m._browser = \u001b[38;5;28mself\u001b[39m.loop.run_until_complete(\u001b[38;5;28msuper\u001b[39m().browser)\n\u001b[32m    731\u001b[39m \u001b[38;5;28;01mreturn\u001b[39;00m \u001b[38;5;28mself\u001b[39m._browser\n",
      "\u001b[31mRuntimeError\u001b[39m: Cannot use HTMLSession within an existing event loop. Use AsyncHTMLSession instead."
     ]
    }
   ],
   "source": [
    "from requests_html import HTMLSession\n",
    "\n",
    "session = HTMLSession()\n",
    "url = \"https://www.newsnow.com/ng/Economy/Cryptocurrencies/\"\n",
    "\n",
    "r = session.get(url)\n",
    "r.html.render(timeout=20)  # this runs the JavaScript\n",
    "\n",
    "articles = r.html.find('div.nws-article')\n",
    "\n",
    "for article in articles:\n",
    "    title = article.find('h3.nws-article__headline', first=True)\n",
    "    link = article.find('a', first=True)\n",
    "    if title and link:\n",
    "        print(f\"Title: {title.text.strip()}\")\n",
    "        print(f\"Link: {link.attrs.get('href')}\")\n"
   ]
  },
  {
   "cell_type": "code",
   "execution_count": 11,
   "id": "28b61364",
   "metadata": {},
   "outputs": [
    {
     "name": "stderr",
     "output_type": "stream",
     "text": [
      "[INFO] Starting Chromium download.\n"
     ]
    },
    {
     "ename": "OSError",
     "evalue": "Chromium downloadable not found at https://storage.googleapis.com/chromium-browser-snapshots/Win_x64/1181205/chrome-win.zip: Received <?xml version='1.0' encoding='UTF-8'?><Error><Code>NoSuchKey</Code><Message>The specified key does not exist.</Message><Details>No such object: chromium-browser-snapshots/Win_x64/1181205/chrome-win.zip</Details></Error>.\n",
     "output_type": "error",
     "traceback": [
      "\u001b[31m---------------------------------------------------------------------------\u001b[39m",
      "\u001b[31mOSError\u001b[39m                                   Traceback (most recent call last)",
      "\u001b[36mCell\u001b[39m\u001b[36m \u001b[39m\u001b[32mIn[11]\u001b[39m\u001b[32m, line 18\u001b[39m\n\u001b[32m     15\u001b[39m             \u001b[38;5;28mprint\u001b[39m(\u001b[33mf\u001b[39m\u001b[33m\"\u001b[39m\u001b[33mLink: \u001b[39m\u001b[38;5;132;01m{\u001b[39;00mlink.attrs.get(\u001b[33m'\u001b[39m\u001b[33mhref\u001b[39m\u001b[33m'\u001b[39m)\u001b[38;5;132;01m}\u001b[39;00m\u001b[33m\"\u001b[39m)\n\u001b[32m     17\u001b[39m \u001b[38;5;66;03m# Run the async function\u001b[39;00m\n\u001b[32m---> \u001b[39m\u001b[32m18\u001b[39m \u001b[38;5;28;01mawait\u001b[39;00m get_articles()\n",
      "\u001b[36mCell\u001b[39m\u001b[36m \u001b[39m\u001b[32mIn[11]\u001b[39m\u001b[32m, line 8\u001b[39m, in \u001b[36mget_articles\u001b[39m\u001b[34m()\u001b[39m\n\u001b[32m      6\u001b[39m url = \u001b[33m\"\u001b[39m\u001b[33mhttps://www.newsnow.com/ng/Economy/Cryptocurrencies/\u001b[39m\u001b[33m\"\u001b[39m\n\u001b[32m      7\u001b[39m r = \u001b[38;5;28;01mawait\u001b[39;00m asession.get(url)\n\u001b[32m----> \u001b[39m\u001b[32m8\u001b[39m \u001b[38;5;28;01mawait\u001b[39;00m r.html.arender(timeout=\u001b[32m20\u001b[39m)\n\u001b[32m      9\u001b[39m articles = r.html.find(\u001b[33m'\u001b[39m\u001b[33mdiv.nws-article\u001b[39m\u001b[33m'\u001b[39m)\n\u001b[32m     10\u001b[39m \u001b[38;5;28;01mfor\u001b[39;00m article \u001b[38;5;129;01min\u001b[39;00m articles:\n",
      "\u001b[36mFile \u001b[39m\u001b[32mc:\\Users\\daddy brian\\Desktop\\projects\\Web3_News\\web3news\\Lib\\site-packages\\requests_html.py:615\u001b[39m, in \u001b[36mHTML.arender\u001b[39m\u001b[34m(self, retries, script, wait, scrolldown, sleep, reload, timeout, keep_page)\u001b[39m\n\u001b[32m    612\u001b[39m \u001b[38;5;28;01masync\u001b[39;00m \u001b[38;5;28;01mdef\u001b[39;00m\u001b[38;5;250m \u001b[39m\u001b[34marender\u001b[39m(\u001b[38;5;28mself\u001b[39m, retries: \u001b[38;5;28mint\u001b[39m = \u001b[32m8\u001b[39m, script: \u001b[38;5;28mstr\u001b[39m = \u001b[38;5;28;01mNone\u001b[39;00m, wait: \u001b[38;5;28mfloat\u001b[39m = \u001b[32m0.2\u001b[39m, scrolldown=\u001b[38;5;28;01mFalse\u001b[39;00m, sleep: \u001b[38;5;28mint\u001b[39m = \u001b[32m0\u001b[39m, reload: \u001b[38;5;28mbool\u001b[39m = \u001b[38;5;28;01mTrue\u001b[39;00m, timeout: Union[\u001b[38;5;28mfloat\u001b[39m, \u001b[38;5;28mint\u001b[39m] = \u001b[32m8.0\u001b[39m, keep_page: \u001b[38;5;28mbool\u001b[39m = \u001b[38;5;28;01mFalse\u001b[39;00m):\n\u001b[32m    613\u001b[39m \u001b[38;5;250m    \u001b[39m\u001b[33;03m\"\"\" Async version of render. Takes same parameters. \"\"\"\u001b[39;00m\n\u001b[32m--> \u001b[39m\u001b[32m615\u001b[39m     \u001b[38;5;28mself\u001b[39m.browser = \u001b[38;5;28;01mawait\u001b[39;00m \u001b[38;5;28mself\u001b[39m.session.browser\n\u001b[32m    616\u001b[39m     content = \u001b[38;5;28;01mNone\u001b[39;00m\n\u001b[32m    618\u001b[39m     \u001b[38;5;66;03m# Automatically set Reload to False, if example URL is being used.\u001b[39;00m\n",
      "\u001b[36mFile \u001b[39m\u001b[32mc:\\Users\\daddy brian\\Desktop\\projects\\Web3_News\\web3news\\Lib\\site-packages\\requests_html.py:714\u001b[39m, in \u001b[36mBaseSession.browser\u001b[39m\u001b[34m(self)\u001b[39m\n\u001b[32m    711\u001b[39m \u001b[38;5;129m@property\u001b[39m\n\u001b[32m    712\u001b[39m \u001b[38;5;28;01masync\u001b[39;00m \u001b[38;5;28;01mdef\u001b[39;00m\u001b[38;5;250m \u001b[39m\u001b[34mbrowser\u001b[39m(\u001b[38;5;28mself\u001b[39m):\n\u001b[32m    713\u001b[39m     \u001b[38;5;28;01mif\u001b[39;00m \u001b[38;5;129;01mnot\u001b[39;00m \u001b[38;5;28mhasattr\u001b[39m(\u001b[38;5;28mself\u001b[39m, \u001b[33m\"\u001b[39m\u001b[33m_browser\u001b[39m\u001b[33m\"\u001b[39m):\n\u001b[32m--> \u001b[39m\u001b[32m714\u001b[39m         \u001b[38;5;28mself\u001b[39m._browser = \u001b[38;5;28;01mawait\u001b[39;00m pyppeteer.launch(ignoreHTTPSErrors=\u001b[38;5;129;01mnot\u001b[39;00m(\u001b[38;5;28mself\u001b[39m.verify), headless=\u001b[38;5;28;01mTrue\u001b[39;00m, args=\u001b[38;5;28mself\u001b[39m.__browser_args)\n\u001b[32m    716\u001b[39m     \u001b[38;5;28;01mreturn\u001b[39;00m \u001b[38;5;28mself\u001b[39m._browser\n",
      "\u001b[36mFile \u001b[39m\u001b[32mc:\\Users\\daddy brian\\Desktop\\projects\\Web3_News\\web3news\\Lib\\site-packages\\pyppeteer\\launcher.py:307\u001b[39m, in \u001b[36mlaunch\u001b[39m\u001b[34m(options, **kwargs)\u001b[39m\n\u001b[32m    239\u001b[39m \u001b[38;5;28;01masync\u001b[39;00m \u001b[38;5;28;01mdef\u001b[39;00m\u001b[38;5;250m \u001b[39m\u001b[34mlaunch\u001b[39m(options: \u001b[38;5;28mdict\u001b[39m = \u001b[38;5;28;01mNone\u001b[39;00m, **kwargs: Any) -> Browser:\n\u001b[32m    240\u001b[39m \u001b[38;5;250m    \u001b[39m\u001b[33;03m\"\"\"Start chrome process and return :class:`~pyppeteer.browser.Browser`.\u001b[39;00m\n\u001b[32m    241\u001b[39m \u001b[33;03m    This function is a shortcut to :meth:`Launcher(options, **kwargs).launch`.\u001b[39;00m\n\u001b[32m    242\u001b[39m \u001b[33;03m    Available options are:\u001b[39;00m\n\u001b[32m   (...)\u001b[39m\u001b[32m    305\u001b[39m \u001b[33;03m        option with extreme caution.\u001b[39;00m\n\u001b[32m    306\u001b[39m \u001b[33;03m    \"\"\"\u001b[39;00m\n\u001b[32m--> \u001b[39m\u001b[32m307\u001b[39m     \u001b[38;5;28;01mreturn\u001b[39;00m \u001b[38;5;28;01mawait\u001b[39;00m \u001b[43mLauncher\u001b[49m\u001b[43m(\u001b[49m\u001b[43moptions\u001b[49m\u001b[43m,\u001b[49m\u001b[43m \u001b[49m\u001b[43m*\u001b[49m\u001b[43m*\u001b[49m\u001b[43mkwargs\u001b[49m\u001b[43m)\u001b[49m.launch()\n",
      "\u001b[36mFile \u001b[39m\u001b[32mc:\\Users\\daddy brian\\Desktop\\projects\\Web3_News\\web3news\\Lib\\site-packages\\pyppeteer\\launcher.py:120\u001b[39m, in \u001b[36mLauncher.__init__\u001b[39m\u001b[34m(self, options, **kwargs)\u001b[39m\n\u001b[32m    118\u001b[39m \u001b[38;5;28;01mif\u001b[39;00m \u001b[38;5;129;01mnot\u001b[39;00m \u001b[38;5;28mself\u001b[39m.chromeExecutable:\n\u001b[32m    119\u001b[39m     \u001b[38;5;28;01mif\u001b[39;00m \u001b[38;5;129;01mnot\u001b[39;00m check_chromium():\n\u001b[32m--> \u001b[39m\u001b[32m120\u001b[39m         \u001b[43mdownload_chromium\u001b[49m\u001b[43m(\u001b[49m\u001b[43m)\u001b[49m\n\u001b[32m    121\u001b[39m     \u001b[38;5;28mself\u001b[39m.chromeExecutable = \u001b[38;5;28mstr\u001b[39m(chromium_executable())\n\u001b[32m    123\u001b[39m \u001b[38;5;28mself\u001b[39m.cmd = [\u001b[38;5;28mself\u001b[39m.chromeExecutable] + \u001b[38;5;28mself\u001b[39m.chromeArguments\n",
      "\u001b[36mFile \u001b[39m\u001b[32mc:\\Users\\daddy brian\\Desktop\\projects\\Web3_News\\web3news\\Lib\\site-packages\\pyppeteer\\chromium_downloader.py:138\u001b[39m, in \u001b[36mdownload_chromium\u001b[39m\u001b[34m()\u001b[39m\n\u001b[32m    136\u001b[39m \u001b[38;5;28;01mdef\u001b[39;00m\u001b[38;5;250m \u001b[39m\u001b[34mdownload_chromium\u001b[39m() -> \u001b[38;5;28;01mNone\u001b[39;00m:\n\u001b[32m    137\u001b[39m \u001b[38;5;250m    \u001b[39m\u001b[33;03m\"\"\"Download and extract chromium.\"\"\"\u001b[39;00m\n\u001b[32m--> \u001b[39m\u001b[32m138\u001b[39m     extract_zip(\u001b[43mdownload_zip\u001b[49m\u001b[43m(\u001b[49m\u001b[43mget_url\u001b[49m\u001b[43m(\u001b[49m\u001b[43m)\u001b[49m\u001b[43m)\u001b[49m, DOWNLOADS_FOLDER / REVISION)\n",
      "\u001b[36mFile \u001b[39m\u001b[32mc:\\Users\\daddy brian\\Desktop\\projects\\Web3_News\\web3news\\Lib\\site-packages\\pyppeteer\\chromium_downloader.py:82\u001b[39m, in \u001b[36mdownload_zip\u001b[39m\u001b[34m(url)\u001b[39m\n\u001b[32m     80\u001b[39m r = http.request(\u001b[33m'\u001b[39m\u001b[33mGET\u001b[39m\u001b[33m'\u001b[39m, url, preload_content=\u001b[38;5;28;01mFalse\u001b[39;00m)\n\u001b[32m     81\u001b[39m \u001b[38;5;28;01mif\u001b[39;00m r.status >= \u001b[32m400\u001b[39m:\n\u001b[32m---> \u001b[39m\u001b[32m82\u001b[39m     \u001b[38;5;28;01mraise\u001b[39;00m \u001b[38;5;167;01mOSError\u001b[39;00m(\u001b[33mf\u001b[39m\u001b[33m'\u001b[39m\u001b[33mChromium downloadable not found at \u001b[39m\u001b[38;5;132;01m{\u001b[39;00murl\u001b[38;5;132;01m}\u001b[39;00m\u001b[33m: \u001b[39m\u001b[33m'\u001b[39m \u001b[33mf\u001b[39m\u001b[33m'\u001b[39m\u001b[33mReceived \u001b[39m\u001b[38;5;132;01m{\u001b[39;00mr.data.decode()\u001b[38;5;132;01m}\u001b[39;00m\u001b[33m.\u001b[39m\u001b[38;5;130;01m\\n\u001b[39;00m\u001b[33m'\u001b[39m)\n\u001b[32m     84\u001b[39m \u001b[38;5;66;03m# 10 * 1024\u001b[39;00m\n\u001b[32m     85\u001b[39m _data = BytesIO()\n",
      "\u001b[31mOSError\u001b[39m: Chromium downloadable not found at https://storage.googleapis.com/chromium-browser-snapshots/Win_x64/1181205/chrome-win.zip: Received <?xml version='1.0' encoding='UTF-8'?><Error><Code>NoSuchKey</Code><Message>The specified key does not exist.</Message><Details>No such object: chromium-browser-snapshots/Win_x64/1181205/chrome-win.zip</Details></Error>.\n"
     ]
    }
   ],
   "source": [
    "from requests_html import AsyncHTMLSession\n",
    "\n",
    "asession = AsyncHTMLSession()\n",
    "\n",
    "async def get_articles():\n",
    "    url = \"https://www.newsnow.com/ng/Economy/Cryptocurrencies/\"\n",
    "    r = await asession.get(url)\n",
    "    await r.html.arender(timeout=20)\n",
    "    articles = r.html.find('div.nws-article')\n",
    "    for article in articles:\n",
    "        title = article.find('h3.nws-article__headline', first=True)\n",
    "        link = article.find('a', first=True)\n",
    "        if title and link:\n",
    "            print(f\"Title: {title.text.strip()}\")\n",
    "            print(f\"Link: {link.attrs.get('href')}\")\n",
    "\n",
    "# Run the async function\n",
    "await get_articles()"
   ]
  }
 ],
 "metadata": {
  "kernelspec": {
   "display_name": "web3news",
   "language": "python",
   "name": "python3"
  },
  "language_info": {
   "codemirror_mode": {
    "name": "ipython",
    "version": 3
   },
   "file_extension": ".py",
   "mimetype": "text/x-python",
   "name": "python",
   "nbconvert_exporter": "python",
   "pygments_lexer": "ipython3",
   "version": "3.13.7"
  }
 },
 "nbformat": 4,
 "nbformat_minor": 5
}
